{
 "cells": [
  {
   "cell_type": "code",
   "execution_count": null,
   "metadata": {},
   "outputs": [],
   "source": [
    "from URBasic import ISCoin\n",
    "import os\n",
    "import numpy as np\n",
    "import PIL\n",
    "\n",
    "# create readings folder if it does not exist\n",
    "if not os.path.exists('readings'):\n",
    "    os.makedirs('readings')\n",
    "\n",
    "# Create a new ISCoin object\n",
    "# UR3e1 IP (closest to window): 10.30.5.158\n",
    "# UR3e2 IP: 10.30.5.159\n",
    "iscoin = ISCoin(host=\"10.30.5.159\", opened_gripper_size_mm=40)"
   ]
  },
  {
   "cell_type": "code",
   "execution_count": null,
   "metadata": {},
   "outputs": [],
   "source": [
    "import time\n",
    "\n",
    "timestamp = int(time.time())\n",
    "\n",
    "pic = iscoin.camera.getImageAsImage()\n",
    "pic.save(f\"readings/{timestamp}.png\")\n",
    "\n",
    "joints = iscoin.robot_control.get_actual_joint_positions()\n",
    "j1, j2, j3, j4, j5, j6 = joints.j1, joints.j2, joints.j3, joints.j4, joints.j5, joints.j6\n",
    "\n",
    "with open(f\"readings/{timestamp}.txt\", \"w\") as f:\n",
    "    f.write(f\"{j1},{j2},{j3},{j4},{j5},{j6}\")\n"
   ]
  }
 ],
 "metadata": {
  "kernelspec": {
   "display_name": ".venv",
   "language": "python",
   "name": "python3"
  },
  "language_info": {
   "codemirror_mode": {
    "name": "ipython",
    "version": 3
   },
   "file_extension": ".py",
   "mimetype": "text/x-python",
   "name": "python",
   "nbconvert_exporter": "python",
   "pygments_lexer": "ipython3",
   "version": "3.12.0"
  }
 },
 "nbformat": 4,
 "nbformat_minor": 2
}
